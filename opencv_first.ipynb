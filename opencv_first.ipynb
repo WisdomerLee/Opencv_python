{
  "nbformat": 4,
  "nbformat_minor": 0,
  "metadata": {
    "colab": {
      "name": "opencv_first.ipynb",
      "provenance": [],
      "authorship_tag": "ABX9TyOMgHaInNaTQdnmvZXokeU5",
      "include_colab_link": true
    },
    "kernelspec": {
      "name": "python3",
      "display_name": "Python 3"
    }
  },
  "cells": [
    {
      "cell_type": "markdown",
      "metadata": {
        "id": "view-in-github",
        "colab_type": "text"
      },
      "source": [
        "<a href=\"https://colab.research.google.com/github/WisdomerLee/Opencv_python/blob/main/opencv_first.ipynb\" target=\"_parent\"><img src=\"https://colab.research.google.com/assets/colab-badge.svg\" alt=\"Open In Colab\"/></a>"
      ]
    },
    {
      "cell_type": "markdown",
      "metadata": {
        "id": "Ta8T3qc2FVkn"
      },
      "source": [
        "이미지를 활용한 opencv예시\r\n",
        "출처: https://opencv-python-tutroals.readthedocs.io/en/latest/py_tutorials/py_gui/py_image_display/py_image_display.html\r\n"
      ]
    },
    {
      "cell_type": "code",
      "metadata": {
        "id": "ukkHQ9ypFb-q"
      },
      "source": [
        "import numpy as np\r\n",
        "import cv2\r\n",
        "#숫자 계산은 numpy가 영상, 그림 관련 처리는 cv2 \r\n",
        "\r\n",
        "#해당 경로에 해당하는 이미지 불러오기(흑백계열로)\r\n",
        "img = cv2.imread('messi5.jpg', 0)\r\n",
        "\r\n",
        "\r\n",
        "#이미지 보여주는 단계\r\n",
        "cv2.imshow('image', img)\r\n",
        "#키 입력을 기다리는 단계-특정밀리초 단위로 기다렸다가 키가 눌리면 다음으로 진행...0을 넣으면 즉시 키를 누르자마자 다음으로 진행함..\r\n",
        "cv2.waitKey(0)\r\n",
        "#만들어진 윈도우 창을 모두 삭제(파괴) 특정 윈도우창만 지우고 싶다면 cv2.destroyWindow()함수를 활용할 것 전달 인자로는 닫아야 할 윈도우 창의 이름을 넣으면 됨\r\n",
        "cv2.destroyAllWindows()\r\n",
        "#만약 윈도우 창을 먼저 만들고 그림을 나중에 불러와야 하는 경우라면 특정 윈도우창이 크기 조절이 가능할 수도 있고 가능하지 않을 수도 있음\r\n",
        "#cv2.namedWindow()함수를 이용하여 어느 윈도우창에서 그림을 불러올지 결정할 수 있고.. 기본 flag는 cv2.WINDOW_AUTOSIZE로 그림 크기에 따라 윈도우 창이 자동으로 조절됨, cv2.WINDOW_NORMAL은 그림파일이 굉장히 클 경우 유용함\r\n",
        "\r\n",
        "\r\n",
        "cv2.namedWindow('image', cv2.WINDOW_NORMAL)\r\n",
        "cv2.imshow('image', img)\r\n",
        "cv2.waitKey(0)\r\n",
        "cv2.destroyAllWindows()\r\n",
        "\r\n",
        "#그림 저장을 위해서는 \r\n",
        "cv2.imwrite('messigray.png', img)\r\n",
        "#해당 이름으로 그림을 저장하게 됨(프로그램이 돌아가는 폴더 내부에)\r\n",
        "\r\n"
      ],
      "execution_count": 1,
      "outputs": []
    },
    {
      "cell_type": "code",
      "metadata": {
        "id": "XjjvWjqxFvAf"
      },
      "source": [
        "#위의 것을 모두 합쳐 코드로 만들면\r\n",
        "import numpy as np\r\n",
        "import cv2\r\n",
        "\r\n",
        "img = cv2.imread('messi5.jpg', 0)\r\n",
        "cv2.imshow('image', img)\r\n",
        "k = cv2.waitKey(0) #만약 64bit의 환경이라면 k = cv2.waitKey(0) &0xFF로 입력해야 함\r\n",
        "if k == 27: #esc키를 누르면 \r\n",
        "  cv2.destroyAllWindows()\r\n",
        "elif k == ord('s'): #s키를 누르면 \r\n",
        "  cv2.imwrite('messigray.png', img) #저장\r\n",
        "  cv2.destroyAllWindows()\r\n"
      ],
      "execution_count": null,
      "outputs": []
    },
    {
      "cell_type": "code",
      "metadata": {
        "id": "8T9sxsOqLG68"
      },
      "source": [
        "#Matplotlib를 활용하는 경우 그림 확대, 저장 등의 여러 기능을 활용할 수 있음\r\n",
        "import numpy as np\r\n",
        "import cv2\r\n",
        "from matplotlib import pyplot as plt\r\n",
        "\r\n",
        "img = cv2.imread('messi5.jpg', 0)\r\n",
        "plt.imshow(img, cmap ='gray', interpolation = 'bicubic')\r\n",
        "plt.xticks([]), plt.yticks([]) #tick값 숨기기\r\n",
        "plt.show()\r\n",
        "\r\n",
        "#흑백이 아니라 색깔을 그대로 불러와서 표시할 경우 matplotlib를 활용한 경우는 몇 문제가 발생할 수 있음...\r\n"
      ],
      "execution_count": null,
      "outputs": []
    },
    {
      "cell_type": "code",
      "metadata": {
        "id": "xXULHnqHMh-q"
      },
      "source": [
        "#capture video from camera\r\n",
        "import numpy as np\r\n",
        "import cv2\r\n",
        "\r\n",
        "cap = cv2.VideoCapture(0)\r\n",
        "\r\n",
        "while(True):\r\n",
        "  #프레임단위로 캡쳐\r\n",
        "  ret, frame = cap.read()\r\n",
        "\r\n",
        "  #프레임단위에서 실행해야 할 함수...컬러를 흑백으로 바꾸기\r\n",
        "  gray = cv2.cvtColor(frame, cv2.COLOR_BGR2GRAY)\r\n",
        "\r\n",
        "  #결과 프레임 보여주기\r\n",
        "  cv2.imshow('frame', gray)\r\n",
        "  if cv2.waitKey(1) && 0xFF == ord('q'):\r\n",
        "    break;\r\n",
        "#모든 것이 처리되고 나면 캡쳐 버퍼 풀어주기\r\n",
        "cap.release()\r\n",
        "cv2.destroyAllWindows()\r\n"
      ],
      "execution_count": null,
      "outputs": []
    }
  ]
}